{
  "nbformat": 4,
  "nbformat_minor": 0,
  "metadata": {
    "colab": {
      "provenance": []
    },
    "kernelspec": {
      "name": "python3",
      "display_name": "Python 3"
    },
    "language_info": {
      "name": "python"
    }
  },
  "cells": [
    {
      "cell_type": "markdown",
      "source": [
        "# **1自由度系の減衰自由応答の理論解の理解と可視化**<br>\n",
        "### **ねらい：** Pythonの for ループとリスト操作を学習しながら，減衰振動の理論解を可視化する技術を習得する．"
      ],
      "metadata": {
        "id": "fcTbVyauewZB"
      }
    },
    {
      "cell_type": "code",
      "source": [
        "%pip install japanize_matplotlib"
      ],
      "metadata": {
        "id": "fyaVEy2hgDks"
      },
      "execution_count": null,
      "outputs": []
    },
    {
      "cell_type": "markdown",
      "source": [
        "# **ステップ1：準備運動（$\\Sigma$ 計算ノートブックの復習）** <br>\n",
        "## **目的：** while, for ループ，リスト（append），matplotlib の基本を学習します．"
      ],
      "metadata": {
        "id": "xz6fKcIQfveF"
      }
    },
    {
      "cell_type": "code",
      "source": [
        "import matplotlib.pyplot as plt\n",
        "import numpy as np\n",
        "import japanize_matplotlib # 日本語化\n",
        "\n",
        "# --- ステップ1 ---\n",
        "# Pythonのリストとforループの復習\n",
        "# 0秒から5秒まで、0.01秒刻みの時間リストtを作成する\n",
        "\n",
        "t_list = [] # 空のリストを準備\n",
        "dt = 0.01   # 時間刻み\n",
        "t = 0.0\n",
        "\n",
        "# 5秒になるまでループ (while文の例)\n",
        "while t <= 5.0:\n",
        "    t_list.append(t) # リストに時間を追加\n",
        "    t = t + dt       # 時間を更新 (t += dt とも書けます)\n",
        "\n",
        "# print(t_list) # 中身を確認（コメントアウト）\n",
        "print(f'時間リストが完成しました。データ数: {len(t_list)}個')\n",
        "\n",
        "# （参考）NumPyを使うともっと簡単に書けます\n",
        "# t_np = np.arange(0, 5.0 + dt, dt)\n",
        "\n",
        "# 時間軸を出力する場合には，以下のコードをコメントアウトする\n",
        "#for i in range(len(t_list)):\n",
        "#    print(t_list[i])"
      ],
      "metadata": {
        "id": "195ndehGfFSL",
        "colab": {
          "base_uri": "https://localhost:8080/"
        },
        "outputId": "64d18bf4-9998-4813-f3b3-1b8c7f711963"
      },
      "execution_count": 58,
      "outputs": [
        {
          "output_type": "stream",
          "name": "stdout",
          "text": [
            "時間リストが完成しました。データ数: 501個\n"
          ]
        }
      ]
    },
    {
      "cell_type": "markdown",
      "source": [
        "for ループを使っても同様のことが出来ます．"
      ],
      "metadata": {
        "id": "ehKpcYQ-oRoW"
      }
    },
    {
      "cell_type": "code",
      "source": [
        "import matplotlib.pyplot as plt\n",
        "import numpy as np\n",
        "import japanize_matplotlib # 日本語化\n",
        "\n",
        "# --- ステップ1 ---\n",
        "# Pythonのリストとforループの復習\n",
        "# 0秒から5秒まで、0.01秒刻みの時間リストtを作成する\n",
        "\n",
        "t_list = [] # 空のリストを準備\n",
        "dt = 0.01 # 時間刻み\n",
        "num_points = 501 # データの個数 (0から500まで)\n",
        "\n",
        "for i in range(num_points):\n",
        "    # i (0, 1, 2, ..., 500) と dt を使って t を「計算」する\n",
        "    # (t = t + dt のように誤差を蓄積させない)\n",
        "    t = i * dt\n",
        "    t_list.append(t)\n",
        "\n",
        "# print(t_list)\n",
        "print(f'forループ (計算版) が完成しました。データ数: {len(t_list)}個')\n",
        "\n",
        "# 時間軸を出力する場合には，以下のコードをコメントアウトする\n",
        "#for i in range(num_points):\n",
        "#    print(t_list[i])"
      ],
      "metadata": {
        "id": "mKrwjeIroYGT"
      },
      "execution_count": null,
      "outputs": []
    },
    {
      "cell_type": "markdown",
      "source": [
        "# **ステップ2：最も簡単なケース（$h=0.1$）の理論解を計算する**<br>\n",
        "### **目的：** 複雑な理論解をPythonの数式として正しく入力する練習します． <br>\n",
        "$h < 1$（減衰振動）の場合：$y(t) = e^{-h\\omega_n t} (y_0 \\cos(\\omega_d t) + \\frac{\\dot{y}_0 + h\\omega_n y_0}{\\omega_d} \\sin(\\omega_d t))$<br>\n",
        "ここで $\\omega_d = \\omega_n \\sqrt{1-h^2}$ （減衰角振動数）"
      ],
      "metadata": {
        "id": "-J2cgtTggnR3"
      }
    },
    {
      "cell_type": "code",
      "source": [
        "# --- ステップ2 ---\n",
        "# h=0.1（減衰振動）の理論解を計算する\n",
        "\n",
        "# 計算条件\n",
        "wn = 2.0 * np.pi  # 固有角振動数 (ωn)\n",
        "y0 = 1.0          # 初期変位 y(0)\n",
        "y0_dot = 5.0      # 初期速度 ẏ(0)\n",
        "\n",
        "h = 0.1           # まずは h=0.1 で試す\n",
        "\n",
        "# 必要なパラメータを先に計算\n",
        "wd = wn * np.sqrt(1 - h**2)         # 減衰角振動数 (ωd)\n",
        "C1 = y0\n",
        "C2 = (y0_dot + h * wn * y0) / wd\n",
        "\n",
        "# 時間リストt_list（ステップ1で作成）を使って、各時間のyを計算\n",
        "y_list = [] # 結果を入れる空のリスト\n",
        "\n",
        "for t_i in t_list:\n",
        "\n",
        "    # 理論解の数式\n",
        "    # 指数関数や三角関数を使う場合には，\"np.\"を付ける　ex) np.exp(), np.cos(), np.sin()\n",
        "    # 事前にnumpyライブラリーを読み込んで置く必要がある（ステップ1）\n",
        "    term1 = np.exp(-h * wn * t_i)\n",
        "    term2 = C1 * np.cos(wd * t_i) + C2 * np.sin(wd * t_i)\n",
        "\n",
        "    y = term1 * term2\n",
        "\n",
        "    y_list.append(y) # 計算結果をリストに追加\n",
        "\n",
        "print(f'h=0.1 の変位リストが完成しました。データ数: {len(y_list)}個')\n",
        "\n",
        "# --- ステップ3（ステップ2の直後に行う） ---\n",
        "# 計算結果をグラフにしてみる\n",
        "plt.figure(figsize=(10, 6))\n",
        "plt.plot(t_list, y_list, label='h = 0.1')\n",
        "plt.title('減衰自由振動 (h=0.1)')\n",
        "plt.xlabel('時間 t (s)')\n",
        "plt.ylabel('変位 y (m)')\n",
        "plt.legend()\n",
        "plt.grid(True)\n",
        "plt.axhline(0, color='black', linewidth=0.5) # y=0の線\n",
        "plt.show()"
      ],
      "metadata": {
        "id": "adQ0qXQIhR8I"
      },
      "execution_count": null,
      "outputs": []
    },
    {
      "cell_type": "markdown",
      "source": [
        "# **ステップ3：$h=1.0$（臨界減衰）の理論解を追加する**<br>\n",
        "### **目的 :** 条件（$h$の値）によって，計算する「理論解の数式」が変わることをプログラムで体験する．<br>\n",
        "$h = 1$（臨界減衰）の場合：\n",
        "$y(t) = e^{-\\omega_n t} (y_0 + (\\dot{y}_0 + \\omega_n y_0) t)$\n"
      ],
      "metadata": {
        "id": "OSq-Q6d7kDMc"
      }
    },
    {
      "cell_type": "code",
      "source": [
        "# --- ステップ3 ---\n",
        "# h=1.0（臨界減衰）の場合も計算して、グラフを重ねる\n",
        "\n",
        "# （ステップ1, 2のコードはそのまま...）\n",
        "\n",
        "# === h=1.0 の計算を追加 ===\n",
        "h_critical = 1.0\n",
        "y_list_h1 = [] # h=1.0用の空のリスト\n",
        "\n",
        "# 係数を計算（理論解が異なる！）\n",
        "C1 = y0\n",
        "C2 = y0_dot + wn * y0 # h=1.0 のため wn を使う (h*wn*y0 と同じ)\n",
        "\n",
        "for t_i in t_list:\n",
        "    # 理論解の数式（臨界減衰用）\n",
        "    y = np.exp(-wn * t_i) * (C1 + C2 * t_i)\n",
        "\n",
        "    y_list_h1.append(y)\n",
        "\n",
        "print(f'h=1.0 の変位リストが完成しました。データ数: {len(y_list_h1)}個')\n",
        "\n",
        "\n",
        "# --- グラフ描画部分を改造 ---\n",
        "plt.figure(figsize=(10, 6))\n",
        "\n",
        "# h=0.1 のプロット (ステップ2で計算した y_list を使用)\n",
        "plt.plot(t_list, y_list, label='h = 0.1 (減衰振動)')\n",
        "\n",
        "# h=1.0 のプロットを追加\n",
        "plt.plot(t_list, y_list_h1, label='h = 1.0 (臨界減衰)', linestyle='--')\n",
        "\n",
        "plt.title('減衰自由振動の比較')\n",
        "plt.xlabel('時間 t (s)')\n",
        "plt.ylabel('変位 y (m)')\n",
        "plt.legend()\n",
        "plt.grid(True)\n",
        "plt.axhline(0, color='black', linewidth=0.5)\n",
        "plt.show()"
      ],
      "metadata": {
        "id": "1iyHQcXEgmGV"
      },
      "execution_count": null,
      "outputs": []
    },
    {
      "cell_type": "markdown",
      "source": [
        "## **演習：** 過減衰の場合の結果を自分でコーディングしてみましょう．<br>\n",
        "$h > 1$（過減衰）の場合：$y(t) = e^{-h\\omega_n t} (y_0 \\cosh(\\omega_a t) + \\frac{\\dot{y}_0 + h\\omega_n y_0}{\\omega_a} \\sinh(\\omega_a t))$<br>\n",
        "ここで $\\omega_a = \\omega_n \\sqrt{h^2-1}$"
      ],
      "metadata": {
        "id": "oITY6mvhsR2E"
      }
    },
    {
      "cell_type": "code",
      "source": [
        "# --- プログラムをつくってみよう ---\n",
        "# h=1.0（臨界減衰）の場合も計算して、グラフを重ねる\n",
        "\n",
        "# （ステップ1, 2のコードはそのまま...）\n",
        "\n",
        "# === h=2.0 の計算を追加 ===\n",
        "h_overdamp = 2.0\n",
        "h = h_overdamp\n",
        "y_list_h2 = [] # h=2.0用の空のリスト\n",
        "\n",
        "# 係数を計算（ステップ2の減衰自由振動のプログラムを参考に修正してみよう）\n",
        "wa = wn * np.sqrt(h**2 - 1)              # ωa\n",
        "C1 =                                     # cosh の項の振幅\n",
        "C2 =                                     # sinh の項の振幅\n",
        "\n",
        "for t_i in t_list:\n",
        "    # 理論解の数式（過減衰用）\n",
        "    term1 =\n",
        "    term2 =\n",
        "\n",
        "    y = term1 * term2\n",
        "\n",
        "    y_list_h2.append(y)\n",
        "\n",
        "print(f'h=2.0 の変位リストが完成しました。データ数: {len(y_list_h1)}個')\n",
        "\n",
        "# --- グラフ描画部分を改造 ---\n",
        "plt.figure(figsize=(10, 6))\n",
        "\n",
        "# h=1.0 のプロット (ステップ3で計算した y_list_h1 を使用)\n",
        "plt.plot(t_list, y_list_h1, label='h = 1.0 (臨界振動)', linestyle='--')\n",
        "\n",
        "# h=2.0 のプロットを追加\n",
        "plt.plot(t_list, y_list_h2, label='h = 2.0 (過減衰)')\n",
        "\n",
        "plt.title('臨界減衰と過減衰の比較')\n",
        "plt.xlabel('時間 t (s)')\n",
        "plt.ylabel('変位 y (m)')\n",
        "plt.legend()\n",
        "plt.grid(True)\n",
        "plt.axhline(0, color='black', linewidth=0.5)\n",
        "plt.show()"
      ],
      "metadata": {
        "id": "Ma8Sl1NIsSkH"
      },
      "execution_count": null,
      "outputs": []
    },
    {
      "cell_type": "markdown",
      "source": [
        "# **ステップ4（最終課題）：全4ケースを比較するプログラムの完成**<br>\n",
        "### **目的：** これまでのステップを統合し，if...elif...else を使い $h$ の値で処理を分岐させて，演習課題を完成させる．<br>\n",
        "$h > 1$（過減衰）の場合：$y(t) = e^{-h\\omega_n t} (y_0 \\cosh(\\omega_a t) + \\frac{\\dot{y}_0 + h\\omega_n y_0}{\\omega_a} \\sinh(\\omega_a t))$<br>\n",
        "ここで $\\omega_a = \\omega_n \\sqrt{h^2-1}$"
      ],
      "metadata": {
        "id": "xqIer1pOrHOc"
      }
    },
    {
      "cell_type": "code",
      "execution_count": null,
      "metadata": {
        "id": "d9NBrut1ehTy"
      },
      "outputs": [],
      "source": [
        "import numpy as np\n",
        "import matplotlib.pyplot as plt\n",
        "import japanize_matplotlib\n",
        "\n",
        "# --- 1. 計算条件 ---\n",
        "wn = 2.0 * np.pi                # 周期 1s の場合，固有角円振動数 2π\n",
        "y0 = 1.0                        # 初期変位\n",
        "y0_dot = 5.0                    # 初期速度\n",
        "h_values = [0.1, 0.5, 1.0, 2.0] # 比較したい h(減衰比) のリスト\n",
        "\n",
        "# 時間リスト (NumPyを使うと簡潔)\n",
        "t = np.linspace(0, 5, 501) # 0から5まで501個の点 (0.01秒刻み)\n",
        "\n",
        "# --- 2. グラフの準備 ---\n",
        "plt.figure(figsize=(10, 6))\n",
        "\n",
        "# --- 3. hのリストでループ ---\n",
        "for h in h_values:\n",
        "    y_list = [] # 各hの計算結果を入れるリストを初期化\n",
        "\n",
        "    if h < 1.0:\n",
        "        # (A) 減衰振動 (h=0.1, 0.5)\n",
        "        wd = wn * np.sqrt(1 - h**2)\n",
        "        C1 = y0\n",
        "        C2 = (y0_dot + h * wn * y0) / wd\n",
        "\n",
        "        for t_i in t:\n",
        "            y = np.exp(-h * wn * t_i) * (C1 * np.cos(wd * t_i) + C2 * np.sin(wd * t_i))\n",
        "            y_list.append(y)\n",
        "\n",
        "        label = f'h = {h} (減衰振動)'\n",
        "\n",
        "    elif h == 1.0:\n",
        "        # (B) 臨界減衰 (h=1.0)\n",
        "        C1 = y0\n",
        "        C2 = y0_dot + wn * y0\n",
        "\n",
        "        for t_i in t:\n",
        "            y = np.exp(-wn * t_i) * (C1 + C2 * t_i)\n",
        "            y_list.append(y)\n",
        "\n",
        "        label = f'h = {h} (臨界減衰)'\n",
        "\n",
        "    else: # h > 1.0\n",
        "        # (C) 過減衰 (h=2.0)\n",
        "        wa = wn * np.sqrt(h**2 - 1)\n",
        "        C1 = y0\n",
        "        C2 = (y0_dot + h * wn * y0) / wa\n",
        "\n",
        "        for t_i in t:\n",
        "            # cosh, sinh を使うと簡潔\n",
        "            y = np.exp(-h * wn * t_i) * (C1 * np.cosh(wa * t_i) + C2 * np.sinh(wa * t_i))\n",
        "            y_list.append(y)\n",
        "\n",
        "        label = f'h = {h} (過減衰)'\n",
        "\n",
        "    # --- 4. プロット ---\n",
        "    # 1つのhの計算が終わるたびにプロットする\n",
        "    plt.plot(t, y_list, label=label)\n",
        "\n",
        "# --- 5. グラフ仕上げ ---\n",
        "plt.title('減衰自由振動の応答比較 (理論解)', fontsize=14)\n",
        "plt.xlabel('時間 t (s)', fontsize=12)\n",
        "plt.ylabel('変位 y (m)', fontsize=12)\n",
        "plt.legend()\n",
        "plt.grid(True)\n",
        "plt.axhline(0, color='black', linewidth=0.5)\n",
        "plt.ylim(-1.0, 1.5) # 比較しやすくy軸の範囲を固定\n",
        "plt.show()"
      ]
    },
    {
      "cell_type": "markdown",
      "source": [
        "# **ステップ5（ベクトル化によ）：forループを使わない方法**<br>\n",
        "numpyというライブラリの「ベクトル化（Vectorization）」という機能を使うと，forループとlistへのappend処理を無くし，劇的にシンプルで高速なコードに書き換えることができます．<br>\n",
        "listとforループでは，時間tを1つずつ取り出して計算し，結果をappendする必要がありました．<br><br>\n",
        "**listとforループの場合**<br>\n",
        "y_list = []<br>\n",
        "for t_i in t_vec:<br>\n",
        "&emsp;y = np.exp(-h * wn * t_i) * ... # 1つずつ計算<br>\n",
        "&emsp;y_list.append(y) # 1つずつ追加<br>\n",
        "<br>\n",
        "numpyの配列（ndarray）は，配列そのものに数学関数（np.expやnp.cosなど）を直接適用できます．t_vecが配列であれば，np.cos(t_vec)と書くだけで，t_vecの全要素のcosを計算した新しい配列が返ってきます．"
      ],
      "metadata": {
        "id": "KBQCWe_h5tdw"
      }
    },
    {
      "cell_type": "code",
      "source": [
        "import numpy as np\n",
        "import matplotlib.pyplot as plt\n",
        "import japanize_matplotlib\n",
        "\n",
        "# --- 1. 計算条件 ---\n",
        "wn = 2.0 * np.pi\n",
        "y0 = 1.0\n",
        "y0_dot = 5.0\n",
        "h_values = [0.1, 0.5, 1.0, 2.0]\n",
        "\n",
        "# 時間配列 (Numpy配列として作成)\n",
        "t = np.linspace(0, 5, 501)\n",
        "\n",
        "# --- 2. グラフの準備 ---\n",
        "plt.figure(figsize=(10, 6))\n",
        "\n",
        "# --- 3. hのリストでループ (このループは残す) ---\n",
        "for h in h_values:\n",
        "\n",
        "    label = \"\"\n",
        "\n",
        "    # hの値で理論解を分岐\n",
        "    if h < 1.0:\n",
        "        # --- (A) 減衰振動 ---\n",
        "        wd = wn * np.sqrt(1 - h**2)\n",
        "        C1 = y0\n",
        "        C2 = (y0_dot + h * wn * y0) / wd\n",
        "\n",
        "        # ★★★ ベクトル化 ★★★\n",
        "        # forループの代わりに、配列tを使った1行の数式で計算\n",
        "        y = np.exp(-h * wn * t) * (C1 * np.cos(wd * t) + C2 * np.sin(wd * t))\n",
        "\n",
        "        label = f'h = {h} (減衰振動)'\n",
        "\n",
        "    elif h == 1.0:\n",
        "        # --- (B) 臨界減衰 ---\n",
        "        C1 = y0\n",
        "        C2 = y0_dot + wn * y0\n",
        "\n",
        "        # ★★★ ベクトル化 ★★★\n",
        "        y = np.exp(-wn * t) * (C1 + C2 * t)\n",
        "\n",
        "        label = f'h = {h} (臨界減衰)'\n",
        "\n",
        "    else: # h > 1.0\n",
        "        # --- (C) 過減衰 ---\n",
        "        wa = wn * np.sqrt(h**2 - 1)\n",
        "        C1 = y0\n",
        "        C2 = (y0_dot + h * wn * y0) / wa\n",
        "\n",
        "        # ★★★ ベクトル化 ★★★\n",
        "        y = np.exp(-h * wn * t) * (C1 * np.cosh(wa * t) + C2 * np.sinh(wa * t))\n",
        "\n",
        "        label = f'h = {h} (過減衰)'\n",
        "\n",
        "    # --- 4. プロット ---\n",
        "    # yは計算結果のNumpy配列\n",
        "    plt.plot(t, y, label=label)\n",
        "\n",
        "# --- 5. グラフ仕上げ ---\n",
        "plt.title('減衰自由振動の応答比較 (Numpyベクトル化版)', fontsize=14)\n",
        "plt.xlabel('時間 t (s)', fontsize=12)\n",
        "plt.ylabel('変位 y (m)', fontsize=12)\n",
        "plt.legend(title='減衰比 $h$')\n",
        "plt.grid(True)\n",
        "plt.axhline(0, color='black', linewidth=0.5)\n",
        "plt.ylim(-1.0, 1.5)\n",
        "plt.show()"
      ],
      "metadata": {
        "id": "dZAHiJtb58VH"
      },
      "execution_count": null,
      "outputs": []
    }
  ]
}